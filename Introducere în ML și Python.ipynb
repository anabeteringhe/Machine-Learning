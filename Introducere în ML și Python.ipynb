{
 "cells": [
  {
   "cell_type": "markdown",
   "metadata": {},
   "source": [
    "<h2>Introducere în Python</h2>"
   ]
  },
  {
   "cell_type": "markdown",
   "metadata": {},
   "source": [
    "În Python există șase tipuri standard de date principale:\n",
    "    Numerice\n",
    "    Șiruri de caractere\n",
    "    Liste\n",
    "    Tupluri\n",
    "    Seturi\n",
    "    Dicționare\n",
    "\n",
    "Cel mai mult se folosesc următoarele tipuri de date: numerice, șiruri de caractere, liste și dicționare.\n",
    "Pentru a realiza un model de Machine Learning este necesar să se folosească datele într-un format numeric, sau să se transforme datele într-un format numeric. \n",
    "În Python, aceasta se poate realiza cu ajutorul unor biblioteci precum NumPy, Pandas sau Scikit-learn."
   ]
  },
  {
   "cell_type": "markdown",
   "metadata": {},
   "source": [
    "Datele numerice:"
   ]
  },
  {
   "cell_type": "code",
   "execution_count": null,
   "metadata": {},
   "outputs": [],
   "source": [
    "x = 10  # Integer\n",
    "y = 3.14  # Float"
   ]
  },
  {
   "cell_type": "markdown",
   "metadata": {},
   "source": [
    "Stringuri (strings)"
   ]
  },
  {
   "cell_type": "code",
   "execution_count": null,
   "metadata": {},
   "outputs": [],
   "source": [
    "nume = \"Maria\""
   ]
  },
  {
   "cell_type": "markdown",
   "metadata": {},
   "source": [
    "Booleeni (booleans)"
   ]
  },
  {
   "cell_type": "code",
   "execution_count": null,
   "metadata": {},
   "outputs": [],
   "source": [
    "a = True\n",
    "b = False"
   ]
  },
  {
   "cell_type": "markdown",
   "metadata": {},
   "source": [
    "Liste= colecții ordonate și mutabile de elemente care pot fi de tipuri diferite."
   ]
  },
  {
   "cell_type": "code",
   "execution_count": 7,
   "metadata": {},
   "outputs": [],
   "source": [
    "lista = [1, 2, 3, \"patru\", True]\n",
    "lista.append(5)  # Adaugă un element la listă"
   ]
  },
  {
   "cell_type": "markdown",
   "metadata": {},
   "source": [
    "Dicționare= colecții neordonate de perechi cheie-valoare, unde fiecare cheie este unică."
   ]
  },
  {
   "cell_type": "code",
   "execution_count": null,
   "metadata": {},
   "outputs": [],
   "source": [
    "dictionar = {\"nume\": \"Maria\", \"varsta\": 25}\n",
    "dictionar[\"oras\"] = \"București\"  # Adaugă o nouă pereche cheie-valoare"
   ]
  },
  {
   "cell_type": "markdown",
   "metadata": {},
   "source": [
    "<h2>Instalarea Python și a librăriilor necesare (scikit-learn, pandas, Jupyter Notebooks)</h2>\n"
   ]
  },
  {
   "cell_type": "markdown",
   "metadata": {},
   "source": [
    "Vom instala Python de pe următorul link: https://www.python.org/downloads/\n"
   ]
  },
  {
   "cell_type": "markdown",
   "metadata": {},
   "source": [
    "\n",
    "Pentru a instala o librărie in Python, primul pas este aflarea versiunii instalate anterior folosind următoarea comandă în terminal:"
   ]
  },
  {
   "cell_type": "code",
   "execution_count": null,
   "metadata": {},
   "outputs": [],
   "source": [
    "py --version"
   ]
  },
  {
   "cell_type": "markdown",
   "metadata": {},
   "source": [
    "E nevoie să aflăm dacă avem deja instalată ultima versiune de PIP, pe care îl vom folosi pentru pregătirea celorlalte librării pe care le vom folosi. \n",
    "\n",
    "Pentru realizarea acțiunii anterioare vom folosi aceeasi comandă de mai devreme."
   ]
  },
  {
   "cell_type": "code",
   "execution_count": null,
   "metadata": {},
   "outputs": [],
   "source": [
    "pip --version"
   ]
  },
  {
   "cell_type": "markdown",
   "metadata": {},
   "source": [
    "Pentru ultimele versiuni de Python, PIP vine deja instalat. Dacă instalați o versiune mai veche, e posibil să fie nevoie de instalarea manuală a acestuia: https://phoenixnap.com/kb/install-pip-windows"
   ]
  },
  {
   "cell_type": "markdown",
   "metadata": {},
   "source": [
    "Dacă nu avem ultima versiune de PIP, îl putem actualiza:"
   ]
  },
  {
   "cell_type": "code",
   "execution_count": null,
   "metadata": {},
   "outputs": [],
   "source": [
    "python -m pip install --upgrade pip"
   ]
  },
  {
   "cell_type": "markdown",
   "metadata": {},
   "source": [
    "Pentru a instala orice librărie necesară folosim:"
   ]
  },
  {
   "cell_type": "code",
   "execution_count": null,
   "metadata": {},
   "outputs": [],
   "source": [
    "pip install <nume_librarie>"
   ]
  },
  {
   "cell_type": "markdown",
   "metadata": {},
   "source": [
    "Pentru a dezinstala o librarie folosim:"
   ]
  },
  {
   "cell_type": "code",
   "execution_count": null,
   "metadata": {},
   "outputs": [],
   "source": [
    "pip uninstall <nume_librarie>"
   ]
  },
  {
   "cell_type": "markdown",
   "metadata": {},
   "source": [
    "Cu aceeași metodă de mai sus putem instala și Jupiter Notebook:"
   ]
  },
  {
   "cell_type": "code",
   "execution_count": null,
   "metadata": {},
   "outputs": [],
   "source": [
    "pip install notebook"
   ]
  },
  {
   "cell_type": "markdown",
   "metadata": {},
   "source": [
    "Pentru a-l deschide folosim comanda:"
   ]
  },
  {
   "cell_type": "code",
   "execution_count": null,
   "metadata": {},
   "outputs": [],
   "source": [
    "jupyter notebook"
   ]
  },
  {
   "cell_type": "markdown",
   "metadata": {},
   "source": [
    "Pentru mai multe modalități de instalare: https://uncoded.ro/jupyter-notebook-introducere-instalare-utilizare/"
   ]
  },
  {
   "cell_type": "markdown",
   "metadata": {},
   "source": [
    "<h2>Ce este Machine Learning?</h2>"
   ]
  },
  {
   "cell_type": "markdown",
   "metadata": {},
   "source": [
    "Machine learning (ML) este un subset al inteligenței artificiale (AI) care se axează pe construcția sistemelor care pot învăța – sau își pot îmbunătăți performanțele – în funcție de datele pe care le procesează. Inteligența artificială este un termen vast care se referă la sisteme sau mașini care imită inteligența umană. Termenii machine learning și AI sunt adesea puși în discuție împreună și utilizați uneori în mod interschimbabil, dar nu înseamnă același lucru. O diferență importantă este aceea că, deși toate sistemele machine learning sunt AI, nu toate AI sunt machine learning.\n"
   ]
  },
  {
   "cell_type": "markdown",
   "metadata": {},
   "source": [
    "<h2>Tipuri de ML</h2>"
   ]
  },
  {
   "cell_type": "markdown",
   "metadata": {},
   "source": [
    "Algoritmii sunt motoarele care propulsează Machine Learning. În prezent, se folosesc cu precădere două tipuri principale de algoritmi de machine learning: machine learning supravegheat și machine learning nesupravegheat. Diferența dintre cele două tipuri constă în modul în care fiecare învață despre date pentru a face previziuni."
   ]
  },
  {
   "cell_type": "markdown",
   "metadata": {},
   "source": [
    "<h3>Machine Learning supravegheat (Supervised Learning)</h3>"
   ]
  },
  {
   "cell_type": "markdown",
   "metadata": {},
   "source": [
    "Algoritmii de machine learning supravegheat sunt cei mai frecvent utilizați. Cu acest model, un expert în date acționează ca un ghid și învață algoritmul ce concluzii ar trebui să tragă. Așa cum un copil învață să identifice fructele prin memorarea lor dintr-o carte ilustrată, pentru machine learning supravegheat, algoritmul este instruit de un set de date care este deja etichetat și are o ieșire predefinită.\n",
    "\n",
    "Exemplele de machine learning supravegheat includ algoritmi precum regresia liniară și logistică, clasificarea instanțelor și mașinile cu suport vectorial."
   ]
  },
  {
   "cell_type": "markdown",
   "metadata": {},
   "source": [
    "<h3>Machine Learning nesupravegheat (Unsupervised Learning)</h3>"
   ]
  },
  {
   "cell_type": "markdown",
   "metadata": {},
   "source": [
    "Machine learning nesupravegheat utilizează o abordare mai independentă, în care un computer învață să identifice procese și modele complexe, fără ajutorul unui om care să ofere îndeaproape orientări în mod constant. Machine learning nesupravegheat implică instruirea bazată pe date care nu au etichete sau o ieșire specifică, definită.\n",
    "\n",
    "Pentru a continua analogia cu sistemul de învățare din copilărie, machine learning nesupravegheat este similar cu un copil care învață să identifice fructele prin observarea culorilor și modelelor, în loc să memoreze numele cu ajutorul unui profesor. Copilul va căuta asemănări între imagini și le va separa în grupuri, atribuind fiecărui grup propria etichetă nouă. Exemplele de algoritmi pentru machine learning nesupravegheat includ gruparea în k clustere, analiza principală și independentă a componentelor și regulile de asociere."
   ]
  },
  {
   "cell_type": "markdown",
   "metadata": {},
   "source": [
    "Aici aș mai pune și câteva link-uri pentru lectură personală. + mai multă informație"
   ]
  }
 ],
 "metadata": {
  "kernelspec": {
   "display_name": "Python 3",
   "language": "python",
   "name": "python3"
  },
  "language_info": {
   "codemirror_mode": {
    "name": "ipython",
    "version": 3
   },
   "file_extension": ".py",
   "mimetype": "text/x-python",
   "name": "python",
   "nbconvert_exporter": "python",
   "pygments_lexer": "ipython3",
   "version": "3.12.4"
  }
 },
 "nbformat": 4,
 "nbformat_minor": 2
}
