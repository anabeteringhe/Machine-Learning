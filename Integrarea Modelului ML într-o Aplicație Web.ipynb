{
 "cells": [
  {
   "cell_type": "markdown",
   "metadata": {},
   "source": [
    "<h2>Introducere în Flask și crearea unei aplicații web de bază</h2>"
   ]
  },
  {
   "cell_type": "markdown",
   "metadata": {},
   "source": [
    "<h3>Ce este Flask?</h3>"
   ]
  },
  {
   "cell_type": "markdown",
   "metadata": {},
   "source": [
    "Flask este un framework web ușor de utilizat și flexibil, ideal pentru dezvoltarea aplicațiilor web simple și rapide. Spre deosebire de alte framework-uri mai complexe (cum ar fi Django), Flask oferă dezvoltatorilor mai multă libertate în structura proiectului și este adesea preferat pentru proiecte mici sau pentru prototiparea rapidă a aplicațiilor."
   ]
  },
  {
   "cell_type": "markdown",
   "metadata": {},
   "source": [
    "<h2>Crearea unei Aplicații Web de Bază</h2>\n"
   ]
  },
  {
   "cell_type": "markdown",
   "metadata": {},
   "source": [
    "O aplicație Flask de bază poate fi creată foarte simplu:\n"
   ]
  },
  {
   "cell_type": "code",
   "execution_count": null,
   "metadata": {},
   "outputs": [],
   "source": [
    "from flask import Flask\n",
    "\n",
    "app = Flask(__name__)\n",
    "\n",
    "\n",
    "@app.route('/')\n",
    "\n",
    "def hello_world():\n",
    "    return 'Hello World'\n",
    "\n",
    "if __name__ == '__main__':\n",
    "\n",
    "    app.run()"
   ]
  },
  {
   "cell_type": "markdown",
   "metadata": {},
   "source": [
    "Asttfel se creează o aplicație Flask simplă cu o singură pagină (rădăcina site-ului, `/`), care afișează mesajul „Hello World!”.\n"
   ]
  },
  {
   "cell_type": "markdown",
   "metadata": {},
   "source": [
    "<h2>Gestionarea cererilor POST în Flask</h2>"
   ]
  },
  {
   "cell_type": "markdown",
   "metadata": {},
   "source": [
    "În Flask, putem crea o rută care să accepte cererile POST folosind metoda @app.route și specificând metoda POST în decoratorul rutei"
   ]
  },
  {
   "cell_type": "code",
   "execution_count": null,
   "metadata": {},
   "outputs": [],
   "source": [
    "@app.route('/predict', methods=['POST'])\n",
    "\n",
    "def predict():\n",
    "    date_input = request.form['numele_inputului']\n"
   ]
  },
  {
   "cell_type": "markdown",
   "metadata": {},
   "source": [
    "\n",
    "### 1.4 Rularea Aplicației\n",
    "\n",
    "Se salvează codul de mai sus într-un fișier, de exemplu, `app.py`. Pentru a rula aplicația, se navighează în terminal la locația fișierului și se rulează următoarea comandă:\n"
   ]
  },
  {
   "cell_type": "code",
   "execution_count": null,
   "metadata": {},
   "outputs": [],
   "source": [
    "python app.py"
   ]
  },
  {
   "cell_type": "markdown",
   "metadata": {},
   "source": [
    "Acum, aplicația va fi disponibilă local la adresa `http://127.0.0.1:5000/`."
   ]
  },
  {
   "cell_type": "markdown",
   "metadata": {},
   "source": [
    "<h2>Integrarea Modelului de Machine Learning într-o Aplicație Flask</h2>\n"
   ]
  },
  {
   "cell_type": "markdown",
   "metadata": {},
   "source": [
    "\n",
    "Vom extinde aplicația pentru a accepta input de la utilizator, a face predicții folosind un model de ML și a afișa rezultatul în interfața web.\n"
   ]
  },
  {
   "cell_type": "markdown",
   "metadata": {},
   "source": [
    "<h3>Pregătirea Modelului de Machine Learning</h3>\n"
   ]
  },
  {
   "cell_type": "markdown",
   "metadata": {},
   "source": [
    "\n",
    "Să presupunem că avem un model de Machine Learning pre-antrenat, cum ar fi un model de clasificare (de exemplu, k-NN) pentru un set de date cum ar fi Iris dataset. Modelul trebuie salvat într-un fișier, astfel încât să îl putem încărca în aplicația web.\n"
   ]
  },
  {
   "cell_type": "code",
   "execution_count": null,
   "metadata": {},
   "outputs": [],
   "source": [
    "from sklearn.datasets import load_iris\n",
    "from sklearn.model_selection import train_test_split\n",
    "from sklearn.neighbors import KNeighborsClassifier\n",
    "import joblib\n",
    "\n",
    "# Încărcarea datelor și antrenarea modelului\n",
    "iris = load_iris()\n",
    "X_train, X_test, y_train, y_test = train_test_split(iris.data, iris.target, test_size=0.2, random_state=42)\n",
    "model = KNeighborsClassifier(n_neighbors=3)\n",
    "model.fit(X_train, y_train)\n",
    "\n",
    "# Salvarea modelului într-un fișier\n",
    "joblib.dump(model, 'model_knn.pkl')\n"
   ]
  },
  {
   "cell_type": "markdown",
   "metadata": {},
   "source": [
    "Acest cod antrenează un model de clasificare pe setul de date Iris și îl salvează într-un fișier `model_knn.pkl`.\n"
   ]
  },
  {
   "cell_type": "markdown",
   "metadata": {},
   "source": [
    "<h3>Crearea unei Aplicații Flask care Utilizează Modelul</h3>\n"
   ]
  },
  {
   "cell_type": "markdown",
   "metadata": {},
   "source": [
    "\n",
    "Acum vom crea o aplicație Flask care încarcă modelul și face predicții pe baza inputului utilizatorului.\n",
    "\n",
    "Structura simplă a aplicației:\n",
    "- Pagina web pentru introducerea datelor de către utilizator.\n",
    "- Endpoint-ul /predict pentru a procesa inputul și a afișa predicția."
   ]
  },
  {
   "cell_type": "code",
   "execution_count": null,
   "metadata": {},
   "outputs": [],
   "source": [
    "from flask import Flask, request, jsonify, render_template\n",
    "import joblib\n",
    "import numpy as np\n",
    "\n",
    "# Inițializarea aplicației Flask\n",
    "app = Flask(__name__)\n",
    "\n",
    "# Încărcarea modelului pre-antrenat\n",
    "model = joblib.load('model_knn.pkl')\n",
    "\n",
    "# Crearea rutei pentru pagina principală\n",
    "@app.route('/')\n",
    "def home():\n",
    "    return render_template('index.html')  # Pagina de introducere a datelor\n",
    "\n",
    "# Ruta pentru predicție\n",
    "@app.route('/predict', methods=['POST'])\n",
    "def predict():\n",
    "    # Preluarea datelor introduse de utilizator din formular\n",
    "    caracteristici = [float(x) for x in request.form.values()]\n",
    "    caracteristici_array = np.array([caracteristici])\n",
    "    \n",
    "    # Predicția utilizând modelul încărcat\n",
    "    predicție = model.predict(caracteristici_array)\n",
    "\n",
    "    # Returnarea rezultatului către utilizator\n",
    "    rezultat = int(predicție[0])\n",
    "    return render_template('index.html', prediction_text=f\"Clasa prezisă este: {rezultat}\")\n",
    "\n",
    "# Rularea aplicației\n",
    "if __name__ == '__main__':\n",
    "    app.run(debug=True)\n"
   ]
  },
  {
   "cell_type": "markdown",
   "metadata": {},
   "source": [
    "<h3>Crearea unei Interfețe HTML de Bază</h3>\n",
    "\n",
    "Pentru ca utilizatorul să poată introduce date, creăm un fișier HTML de bază, care va fi afișat pe pagina principală. Acest fișier trebuie să fie salvat într-un director numit templates, deoarece Flask caută fișierele HTML acolo.\n",
    "\n",
    "Astfel, un formular HTML permite utilizatorului să introducă valori pentru cele patru caracteristici ale setului de date Iris și să trimită datele către server pentru predicție.\n",
    "\n",
    "\n"
   ]
  },
  {
   "cell_type": "markdown",
   "metadata": {},
   "source": [
    "<h3>Testarea Aplicației</h3>\n"
   ]
  },
  {
   "cell_type": "markdown",
   "metadata": {},
   "source": [
    "\n",
    "După ce toate fișierele sunt create, putem testa aplicația urmând acești pași:\n",
    "\n",
    "1. Rulează aplicația Flask din terminal:\n",
    "\n",
    "2. Deschide un browser și navighează la `http://127.0.0.1:5000/`. Vei vedea un formular simplu pentru introducerea datelor.\n",
    "\n",
    "3. Completează formularul cu valori (de exemplu, pentru setul de date Iris, introduce valori între 0 și 10).\n",
    "\n",
    "4. După apăsarea butonului \"Prezice\", vei vedea clasa prezisă pe pagina web."
   ]
  },
  {
   "cell_type": "markdown",
   "metadata": {},
   "source": [
    "Trebuie să adaug link-uri si exemplu pe ce am făcut deja. + mai multă informație"
   ]
  }
 ],
 "metadata": {
  "kernelspec": {
   "display_name": "Python 3",
   "language": "python",
   "name": "python3"
  },
  "language_info": {
   "codemirror_mode": {
    "name": "ipython",
    "version": 3
   },
   "file_extension": ".py",
   "mimetype": "text/x-python",
   "name": "python",
   "nbconvert_exporter": "python",
   "pygments_lexer": "ipython3",
   "version": "3.12.4"
  }
 },
 "nbformat": 4,
 "nbformat_minor": 2
}
