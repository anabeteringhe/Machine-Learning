{
 "cells": [
  {
   "cell_type": "markdown",
   "metadata": {},
   "source": [
    "<h2>Regresia liniară</h2>"
   ]
  },
  {
   "cell_type": "markdown",
   "metadata": {},
   "source": [
    "Regresia liniară este unul dintre cei mai simpli și utilizați algoritmi de Machine Learning pentru predicția unei variabile continue pe baza uneia sau mai multor variabile explicative (predictori). În cazul regresiei simple, relația dintre variabile este modelată ca o linie dreaptă.\n",
    "\n",
    "Formula regresiei liniare este:"
   ]
  },
  {
   "cell_type": "code",
   "execution_count": null,
   "metadata": {},
   "outputs": [],
   "source": [
    "y=c​+a​⋅x"
   ]
  },
  {
   "cell_type": "markdown",
   "metadata": {},
   "source": [
    "unde:\n",
    "\n",
    "    y​ este valoarea prezisă,\n",
    "    c​ este constanta,\n",
    "    b este coeficientul de panta,\n",
    "    x este variabila independentă."
   ]
  },
  {
   "cell_type": "code",
   "execution_count": 2,
   "metadata": {},
   "outputs": [
    {
     "name": "stdout",
     "output_type": "stream",
     "text": [
      "Panta (coeficientul): [0.9]\n",
      "Constanta: 1.1\n"
     ]
    }
   ],
   "source": [
    "import numpy as np\n",
    "from sklearn.linear_model import LinearRegression\n",
    "\n",
    "# Date\n",
    "X = np.array([[1], [2], [3], [4], [5]])  # variabila independentă\n",
    "y = np.array([2, 3.5, 3.0, 4.5, 6.0])  # variabila dependentă\n",
    "\n",
    "# Crearea și antrenarea modelului de regresie liniară\n",
    "model = LinearRegression()\n",
    "model.fit(X, y)\n",
    "\n",
    "# Predicția pe baza datelor noi\n",
    "y_pred = model.predict(X)\n",
    "\n",
    "# Afișarea coeficientului și interceptului\n",
    "print(f\"Panta (coeficientul): {model.coef_}\")\n",
    "print(f\"Constanta: {model.intercept_}\")\n"
   ]
  },
  {
   "cell_type": "markdown",
   "metadata": {},
   "source": [
    "<h2>k-Nearest Neighbors (k-NN)</h2>"
   ]
  },
  {
   "cell_type": "markdown",
   "metadata": {},
   "source": [
    "Algoritmul k-Nearest Neighbors(k-NN) este un algoritm de clasificare/regresie bazat pe instanțe. El clasifică o nouă observație pe baza celor mai apropiați k vecini din setul de antrenament. Distanța poate fi calculată folosind măsuri cum ar fi distanța Euclidiană.\n",
    "\n",
    "Principiul k-NN:\n",
    "\n",
    "    Pentru clasificare, clasa majoritară a celor mai apropiați kk vecini este aleasă ca predicție.\n",
    "    Pentru regresie, se face media valorilor celor mai apropiați kk vecini."
   ]
  },
  {
   "cell_type": "code",
   "execution_count": 4,
   "metadata": {},
   "outputs": [
    {
     "name": "stdout",
     "output_type": "stream",
     "text": [
      "Clasa prezisă pentru [5, 5]: {predicție}\n"
     ]
    }
   ],
   "source": [
    "from sklearn.neighbors import KNeighborsClassifier\n",
    "\n",
    "# Date\n",
    "X = [[1, 2], [2, 3], [3, 4], [6, 5], [7, 7]]\n",
    "y = [0, 0, 0, 1, 1]  # Etichetele (clasele)\n",
    "\n",
    "# Crearea modelului k-NN\n",
    "knn = KNeighborsClassifier(n_neighbors=3)\n",
    "knn.fit(X, y)\n",
    "\n",
    "# Predicția clasei pentru o observație nouă\n",
    "predicție = knn.predict([[5, 5]])\n",
    "print(\"Clasa prezisă pentru [5, 5]: {predicție}\")\n"
   ]
  },
  {
   "cell_type": "markdown",
   "metadata": {},
   "source": [
    "<h2>Evaluarea performanței modelului: noțiuni de acuratețe și matricea de confuzie</h2>"
   ]
  },
  {
   "cell_type": "markdown",
   "metadata": {},
   "source": [
    "Acuratețea este una dintre cele mai comune metrici utilizate pentru evaluarea performanței unui model de clasificare. Aceasta este definită ca proporția de predicții corecte dintre toate predicțiile realizate.\n",
    "\n",
    "Formula acurateței:"
   ]
  },
  {
   "cell_type": "code",
   "execution_count": null,
   "metadata": {},
   "outputs": [],
   "source": [
    "Acuratețe = Predicții corecte / Total predicții"
   ]
  },
  {
   "cell_type": "markdown",
   "metadata": {},
   "source": [
    "Matricea de confuzie este un tabel care prezintă performanța unui model de clasificare. Aceasta arată câte instanțe au fost prezise corect sau incorect în fiecare categorie. Într-un caz de clasificare binară, matricea de confuzie arată astfel:"
   ]
  },
  {
   "cell_type": "code",
   "execution_count": null,
   "metadata": {},
   "outputs": [],
   "source": [
    "\t                Pozitive prezise\t    Negative prezise\n",
    "Pozitive reale\t    True Positive (TP)\t    False Negative (FN)\n",
    "Negative reale\t    False Positive (FP)\t    True Negative (TN)"
   ]
  },
  {
   "cell_type": "code",
   "execution_count": 5,
   "metadata": {},
   "outputs": [
    {
     "name": "stdout",
     "output_type": "stream",
     "text": [
      "Matricea de confuzie:\n",
      " [[3 0]\n",
      " [1 2]]\n",
      "Acuratețea modelului: 0.83\n"
     ]
    }
   ],
   "source": [
    "from sklearn.metrics import confusion_matrix, accuracy_score\n",
    "\n",
    "# Etichete reale și prezise\n",
    "y_true = [0, 1, 0, 1, 0, 1]\n",
    "y_pred = [0, 1, 0, 0, 0, 1]\n",
    "\n",
    "# Calculul matricei de confuzie\n",
    "matrice_confuzie = confusion_matrix(y_true, y_pred)\n",
    "print(\"Matricea de confuzie:\\n\", matrice_confuzie)\n",
    "\n",
    "# Calculul acurateței\n",
    "acuratete = accuracy_score(y_true, y_pred)\n",
    "print(f\"Acuratețea modelului: {acuratete:.2f}\")\n"
   ]
  },
  {
   "cell_type": "markdown",
   "metadata": {},
   "source": [
    "<h2>Implementarea unui model de clasificare în scikit-learn</h2>"
   ]
  },
  {
   "cell_type": "markdown",
   "metadata": {},
   "source": [
    "Vom implementa un model simplu de clasificare folosind scikit-learn. Vom folosi un set de date, cum ar fi Iris dataset (inclus în scikit-learn), și vom construi un model de clasificare"
   ]
  },
  {
   "cell_type": "markdown",
   "metadata": {},
   "source": [
    "<h3>Pașii pentru implementarea unui model de clasificare</h3>"
   ]
  },
  {
   "cell_type": "markdown",
   "metadata": {},
   "source": [
    "1. Importarea datelor și împărțirea setului în date de antrenament și testare.\n",
    "2. Antrenarea modelului pe datele de antrenament.\n",
    "3. Evaluarea performanței pe datele de testare."
   ]
  },
  {
   "cell_type": "code",
   "execution_count": 6,
   "metadata": {},
   "outputs": [
    {
     "name": "stdout",
     "output_type": "stream",
     "text": [
      "Acuratețea modelului k-NN pe Iris Dataset: 1.00\n"
     ]
    }
   ],
   "source": [
    "from sklearn.datasets import load_iris\n",
    "from sklearn.model_selection import train_test_split\n",
    "from sklearn.neighbors import KNeighborsClassifier\n",
    "from sklearn.metrics import accuracy_score\n",
    "\n",
    "# Încărcarea setului de date Iris\n",
    "iris = load_iris()\n",
    "X = iris.data  # Caracteristicile (dimensiuni petale, sepale, etc.)\n",
    "y = iris.target  # Etichetele (speciile de iris)\n",
    "\n",
    "# Împărțirea datelor în set de antrenament și set de testare\n",
    "X_train, X_test, y_train, y_test = train_test_split(X, y, test_size=0.2, random_state=42)\n",
    "\n",
    "# Crearea și antrenarea modelului k-NN\n",
    "model_knn = KNeighborsClassifier(n_neighbors=3)\n",
    "model_knn.fit(X_train, y_train)\n",
    "\n",
    "# Predicția pe datele de testare\n",
    "y_pred = model_knn.predict(X_test)\n",
    "\n",
    "# Evaluarea acurateței modelului\n",
    "acuratete = accuracy_score(y_test, y_pred)\n",
    "print(f\"Acuratețea modelului k-NN pe Iris Dataset: {acuratete:.2f}\")\n"
   ]
  }
 ],
 "metadata": {
  "kernelspec": {
   "display_name": "Python 3",
   "language": "python",
   "name": "python3"
  },
  "language_info": {
   "codemirror_mode": {
    "name": "ipython",
    "version": 3
   },
   "file_extension": ".py",
   "mimetype": "text/x-python",
   "name": "python",
   "nbconvert_exporter": "python",
   "pygments_lexer": "ipython3",
   "version": "3.12.4"
  }
 },
 "nbformat": 4,
 "nbformat_minor": 2
}
