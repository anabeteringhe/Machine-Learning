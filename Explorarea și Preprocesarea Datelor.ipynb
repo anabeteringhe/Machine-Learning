{
 "cells": [
  {
   "cell_type": "markdown",
   "metadata": {},
   "source": [
    "Pasul de preprocesare a datelor este o etapă esențială în dezvoltarea unui model de ML. Datele brute pot conține informații lipsă, valori anormale sau erori. Prin preprocesare, curățăm datele și le transformăm astfel încât să fie utilizabile pentru algoritmii de folosiți. În această etapă explorăm și datele pentru a înțelege structura și caracteristicile acestora."
   ]
  },
  {
   "cell_type": "markdown",
   "metadata": {},
   "source": [
    "<h2>Importarea datelor și manipularea acestora cu pandas</h2>"
   ]
  },
  {
   "cell_type": "markdown",
   "metadata": {},
   "source": [
    "Cele mai populare biblioteci (oferite sub formă de pachete) din Python pentru a realiza astfel de analize sunt Numpy(https://numpy.org/doc/stable/) și Pandas(https://pandas.pydata.org/docs/reference/index.html). Numpy servește ca model de bază pentru matricele multidimensionale cu care veți lucra, în timp ce Pandas pune la dispoziție o suită întreagă de metode de analiză și vizualizare a datelor. Majoritatea funcțiilor pe care le veți utiliza în acest laborator sunt din biblioteca pandas. Suplimentar, veți folosi și funcții de vizualizare (mai avansate) din biblioteca Matplotlib sau din Seaborn(https://seaborn.pydata.org/tutorial/introduction) (strâns legată de Pandas )."
   ]
  },
  {
   "cell_type": "code",
   "execution_count": null,
   "metadata": {
    "vscode": {
     "languageId": "plaintext"
    }
   },
   "outputs": [],
   "source": [
    "#Încărcăm pachetele necesare\n",
    "\n",
    "import pandas as pd\n",
    "import numpy as np\n",
    "import matplotlib.pyplot as plt\n",
    "import seaborn as sns"
   ]
  },
  {
   "cell_type": "code",
   "execution_count": null,
   "metadata": {
    "vscode": {
     "languageId": "plaintext"
    }
   },
   "outputs": [],
   "source": [
    "#încărcăm CSV ul\n",
    "\n",
    "df1=pd.read_csv(r\"nume_fișier.csv\")\n",
    "df1.to_csv(r\"nume_fișier.csv\", mode=\"a\")\n",
    "df=pd.read_csv(r\"alt_nume_fișier.csv\")"
   ]
  },
  {
   "cell_type": "code",
   "execution_count": null,
   "metadata": {
    "vscode": {
     "languageId": "plaintext"
    }
   },
   "outputs": [],
   "source": [
    "#Folosim următoarea comandă pentru a vedea setul de date\n",
    "\n",
    "display(df)"
   ]
  },
  {
   "cell_type": "code",
   "execution_count": null,
   "metadata": {
    "vscode": {
     "languageId": "plaintext"
    }
   },
   "outputs": [],
   "source": [
    "#Pentru a afișa primele 5 valori din setul de date folosim \n",
    "\n",
    "df.head()"
   ]
  },
  {
   "cell_type": "code",
   "execution_count": null,
   "metadata": {
    "vscode": {
     "languageId": "plaintext"
    }
   },
   "outputs": [],
   "source": [
    "# Afișează informații despre structura DataFrame-ului\n",
    "\n",
    "df.info()"
   ]
  },
  {
   "cell_type": "code",
   "execution_count": null,
   "metadata": {
    "vscode": {
     "languageId": "plaintext"
    }
   },
   "outputs": [],
   "source": [
    "# Afișează statistici descriptive pentru coloanele numerice\n",
    "\n",
    "df.describe()"
   ]
  },
  {
   "cell_type": "markdown",
   "metadata": {},
   "source": [
    "<h2>Curățarea datelor și tratarea valorilor lipsă</h2>"
   ]
  },
  {
   "cell_type": "markdown",
   "metadata": {},
   "source": [
    "Datele reale conțin adesea erori sau informații lipsă. Așadar, curățarea datelor implică tratarea acestora pentru a preveni ca ele să afecteze acuratețea modelului."
   ]
  },
  {
   "cell_type": "code",
   "execution_count": null,
   "metadata": {
    "vscode": {
     "languageId": "plaintext"
    }
   },
   "outputs": [],
   "source": [
    "# Găsește valorile lipsă din fiecare coloană\n",
    "\n",
    "df.isnull().sum()"
   ]
  },
  {
   "cell_type": "markdown",
   "metadata": {},
   "source": [
    "Modalități de a trata valorile lipsă:"
   ]
  },
  {
   "cell_type": "code",
   "execution_count": null,
   "metadata": {
    "vscode": {
     "languageId": "plaintext"
    }
   },
   "outputs": [],
   "source": [
    "#Ștergerea rândurilor care conțin valori lipsă:\n",
    "\n",
    "date_curate = df.dropna()"
   ]
  },
  {
   "cell_type": "code",
   "execution_count": null,
   "metadata": {
    "vscode": {
     "languageId": "plaintext"
    }
   },
   "outputs": [],
   "source": [
    "#Completarea valorilor lipsă cu o valoare (de exemplu, media aritmetică):\n",
    "\n",
    "df['coloana_numerica'] = df['coloana_numerica'].fillna(df['coloana_numerica'].mean())"
   ]
  },
  {
   "cell_type": "code",
   "execution_count": null,
   "metadata": {
    "vscode": {
     "languageId": "plaintext"
    }
   },
   "outputs": [],
   "source": [
    "#Completarea valorilor lipsă cu valoarea cea mai frecventă:\n",
    "\n",
    "df['coloana_categorica'] = df['coloana_categorica'].fillna(df['coloana_categorica'].mode()[0])"
   ]
  },
  {
   "cell_type": "markdown",
   "metadata": {},
   "source": [
    "<h2>Vizualizarea datelor cu matplotlib și seaborn</h2>"
   ]
  },
  {
   "cell_type": "code",
   "execution_count": null,
   "metadata": {
    "vscode": {
     "languageId": "plaintext"
    }
   },
   "outputs": [],
   "source": [
    "#Facem o histogramă pentru o variabilă numerică\n",
    "\n",
    "sns.histplot(df['coloana_numerica'], kde=True)\n",
    "plt.show()"
   ]
  },
  {
   "cell_type": "code",
   "execution_count": null,
   "metadata": {
    "vscode": {
     "languageId": "plaintext"
    }
   },
   "outputs": [],
   "source": [
    "#Pentru a vizualiza relațile dintre variabile folosim un grafic de dispersie\n",
    "\n",
    "sns.scatterplot(x='variabila_x', y='variabila_y', data=df)\n",
    "plt.show()"
   ]
  },
  {
   "cell_type": "code",
   "execution_count": null,
   "metadata": {
    "vscode": {
     "languageId": "plaintext"
    }
   },
   "outputs": [],
   "source": [
    "# Matricea de corelație\n",
    "corelatii = df.corr()\n",
    "\n",
    "# Heatmap cu corelațiile\n",
    "sns.heatmap(corelatii, annot=True, cmap=\"coolwarm\")\n",
    "plt.show()"
   ]
  },
  {
   "cell_type": "markdown",
   "metadata": {},
   "source": [
    "<h2>Noțiuni de bază despre normalizare și standardizare</h2>"
   ]
  },
  {
   "cell_type": "markdown",
   "metadata": {},
   "source": [
    "Normalizarea presupune scalarea datelor astfel încât valorile să fie cuprinse între 0 și 1."
   ]
  },
  {
   "cell_type": "code",
   "execution_count": null,
   "metadata": {
    "vscode": {
     "languageId": "plaintext"
    }
   },
   "outputs": [],
   "source": [
    "from sklearn.preprocessing import MinMaxScaler\n",
    "\n",
    "scaler = MinMaxScaler()\n",
    "date_normalizate = scaler.fit_transform(df[['variabila1', 'variabila2']])"
   ]
  },
  {
   "cell_type": "markdown",
   "metadata": {},
   "source": [
    "Standardizarea presupune transformarea datelor astfel încât să aibă media 0 și deviația standard \n",
    "\n",
    "1. Este utilă atunci când variabilele au distribuții normale."
   ]
  },
  {
   "cell_type": "code",
   "execution_count": null,
   "metadata": {
    "vscode": {
     "languageId": "plaintext"
    }
   },
   "outputs": [],
   "source": [
    "from sklearn.preprocessing import StandardScaler\n",
    "\n",
    "scaler = StandardScaler()\n",
    "date_standardizate = scaler.fit_transform(df[['variabila1', 'variabila2']])"
   ]
  },
  {
   "cell_type": "markdown",
   "metadata": {},
   "source": [
    "Voi mai adăuga link uri + parți din proiectul meu cu rezultate (ceva puțin mai simplificat) + mai multă informație"
   ]
  }
 ],
 "metadata": {
  "language_info": {
   "name": "python"
  }
 },
 "nbformat": 4,
 "nbformat_minor": 2
}
