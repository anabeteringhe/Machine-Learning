{
 "cells": [
  {
   "cell_type": "markdown",
   "metadata": {},
   "source": [
    "<h2>Implementarea unui model ML</h2>"
   ]
  },
  {
   "cell_type": "markdown",
   "metadata": {},
   "source": [
    "După realizare pașilor discutați în lectiile anterioare( Colectarea și Preprocesarea Datelor, Alegerea Algoritmului, Antrenarea Modelului) urează să realizăm predicții pe noi date/să testăm modelul. Acest proces implică folosirea setului de date de testare pentru a verifica dacă modelul funcționează bine pe date noi, care nu au fost utilizate în timpul antrenamentului."
   ]
  },
  {
   "cell_type": "markdown",
   "metadata": {},
   "source": [
    "Exemplu pentru preprocesarea datelor:"
   ]
  },
  {
   "cell_type": "code",
   "execution_count": null,
   "metadata": {},
   "outputs": [],
   "source": [
    "import pandas as pd\n",
    "from sklearn.model_selection import train_test_split\n",
    "from sklearn.preprocessing import StandardScaler\n",
    "\n",
    "# Încărcarea datelor (de exemplu, un fișier CSV)\n",
    "date = pd.read_csv(\"dataset.csv\")\n",
    "\n",
    "# Împărțirea datelor în variabile de intrare (X) și etichete (y)\n",
    "X = date.drop('eticheta', axis=1)\n",
    "y = date['eticheta']\n",
    "\n",
    "# Împărțirea setului de date în set de antrenament și set de testare\n",
    "X_train, X_test, y_train, y_test = train_test_split(X, y, test_size=0.2, random_state=42)\n",
    "\n",
    "# Standardizarea datelor\n",
    "scaler = StandardScaler()\n",
    "X_train_scaled = scaler.fit_transform(X_train)\n",
    "X_test_scaled = scaler.transform(X_test)\n"
   ]
  },
  {
   "cell_type": "markdown",
   "metadata": {},
   "source": [
    "Exemplu de antrenare a unui model:"
   ]
  },
  {
   "cell_type": "code",
   "execution_count": null,
   "metadata": {},
   "outputs": [],
   "source": [
    "from sklearn.neighbors import KNeighborsClassifier\n",
    "\n",
    "# Crearea și antrenarea unui model k-NN\n",
    "model_knn = KNeighborsClassifier(n_neighbors=5)\n",
    "model_knn.fit(X_train_scaled, y_train)"
   ]
  },
  {
   "cell_type": "markdown",
   "metadata": {},
   "source": [
    "Exemplu de predicție:"
   ]
  },
  {
   "cell_type": "code",
   "execution_count": null,
   "metadata": {},
   "outputs": [],
   "source": [
    "# Predicția pe datele de testare\n",
    "y_pred = model_knn.predict(X_test_scaled)\n",
    "\n",
    "# Afișarea primelor predicții\n",
    "print(\"Primele 5 predicții:\", y_pred[:5])\n",
    "print(\"Primele 5 etichete reale:\", y_test.values[:5])\n"
   ]
  },
  {
   "cell_type": "markdown",
   "metadata": {},
   "source": [
    "<h2>Evaluarea și interpretarea rezultatelor</h2>"
   ]
  },
  {
   "cell_type": "markdown",
   "metadata": {},
   "source": [
    "Evaluarea performanței unui model se face prin diverse metrici care ne arată cât de bine a reușit modelul să facă predicții corecte. \n",
    "\n",
    "Metricile variază în funcție de tipul problemei: pentru clasificare putem folosi acuratețea sau precizia, iar pentru regresie, eroarea pătratică medie (MSE) sau coeficientul de determinare (R²)."
   ]
  },
  {
   "cell_type": "markdown",
   "metadata": {},
   "source": [
    "După evaluarea modelului, trebuie să interpretăm rezultatele pentru a înțelege unde modelul funcționează bine și unde trebuie îmbunătățit. De exemplu:\n",
    "\n",
    "    Dacă acuratețea este scăzută, modelul ar putea avea nevoie de mai multe date de antrenament sau de un algoritm mai complex.\n",
    "    \n",
    "    Dacă matricea de confuzie arată multe erori într-o anumită clasă, s-ar putea să fie necesară echilibrarea setului de date sau aplicarea unei metode de selecție a caracteristicilor pentru a îmbunătăți performanța."
   ]
  }
 ],
 "metadata": {
  "kernelspec": {
   "display_name": "Python 3",
   "language": "python",
   "name": "python3"
  },
  "language_info": {
   "codemirror_mode": {
    "name": "ipython",
    "version": 3
   },
   "file_extension": ".py",
   "mimetype": "text/x-python",
   "name": "python",
   "nbconvert_exporter": "python",
   "pygments_lexer": "ipython3",
   "version": "3.12.4"
  }
 },
 "nbformat": 4,
 "nbformat_minor": 2
}
